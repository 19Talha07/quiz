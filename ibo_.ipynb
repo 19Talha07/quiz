{
 "cells": [
  {
   "cell_type": "code",
   "execution_count": 6,
   "id": "6e5c9b82",
   "metadata": {},
   "outputs": [],
   "source": [
    "import numpy as np"
   ]
  },
  {
   "cell_type": "code",
   "execution_count": 20,
   "id": "5abb3660",
   "metadata": {},
   "outputs": [],
   "source": [
    "from numpy import array\n",
    "from numpy import ndarray"
   ]
  },
  {
   "cell_type": "code",
   "execution_count": 21,
   "id": "9d29913b",
   "metadata": {},
   "outputs": [],
   "source": [
    "array1: ndarray = array([\n",
    "    [7,-88,11],\n",
    "    [-3,7,12],\n",
    "    [-4,5,-99],\n",
    "    [3,8,-12]\n",
    "])\n",
    "   "
   ]
  },
  {
   "cell_type": "code",
   "execution_count": 22,
   "id": "b50089fa",
   "metadata": {},
   "outputs": [
    {
     "data": {
      "text/plain": [
       "array([[  7, -88,  11],\n",
       "       [ -3,   7,  12],\n",
       "       [ -4,   5, -99],\n",
       "       [  3,   8, -12]])"
      ]
     },
     "execution_count": 22,
     "metadata": {},
     "output_type": "execute_result"
    }
   ],
   "source": [
    "array1"
   ]
  },
  {
   "cell_type": "code",
   "execution_count": 23,
   "id": "c726147a",
   "metadata": {},
   "outputs": [
    {
     "data": {
      "text/plain": [
       "(4, 3)"
      ]
     },
     "execution_count": 23,
     "metadata": {},
     "output_type": "execute_result"
    }
   ],
   "source": [
    "array1.shape"
   ]
  },
  {
   "cell_type": "code",
   "execution_count": 24,
   "id": "8c32b3f5",
   "metadata": {},
   "outputs": [
    {
     "data": {
      "text/plain": [
       "-99"
      ]
     },
     "execution_count": 24,
     "metadata": {},
     "output_type": "execute_result"
    }
   ],
   "source": [
    "np.min(array1)"
   ]
  },
  {
   "cell_type": "code",
   "execution_count": 25,
   "id": "2a67a888",
   "metadata": {},
   "outputs": [],
   "source": [
    "array1[0,1] = 101"
   ]
  },
  {
   "cell_type": "code",
   "execution_count": 26,
   "id": "7484d432",
   "metadata": {},
   "outputs": [
    {
     "data": {
      "text/plain": [
       "array([[  7, 101,  11],\n",
       "       [ -3,   7,  12],\n",
       "       [ -4,   5, -99],\n",
       "       [  3,   8, -12]])"
      ]
     },
     "execution_count": 26,
     "metadata": {},
     "output_type": "execute_result"
    }
   ],
   "source": [
    "array1"
   ]
  },
  {
   "cell_type": "code",
   "execution_count": 27,
   "id": "7e61153a",
   "metadata": {},
   "outputs": [],
   "source": [
    "array1[2,2] = 0"
   ]
  },
  {
   "cell_type": "code",
   "execution_count": 28,
   "id": "f9cfc359",
   "metadata": {},
   "outputs": [
    {
     "data": {
      "text/plain": [
       "array([[  7, 101,  11],\n",
       "       [ -3,   7,  12],\n",
       "       [ -4,   5,   0],\n",
       "       [  3,   8, -12]])"
      ]
     },
     "execution_count": 28,
     "metadata": {},
     "output_type": "execute_result"
    }
   ],
   "source": [
    "array1"
   ]
  },
  {
   "cell_type": "code",
   "execution_count": 34,
   "id": "e036c83e",
   "metadata": {},
   "outputs": [
    {
     "data": {
      "text/plain": [
       "array([[  7, 101,  11,  -3,   7,  12,  -4,   5,   0,   3,   8, -12]])"
      ]
     },
     "execution_count": 34,
     "metadata": {},
     "output_type": "execute_result"
    }
   ],
   "source": [
    "array1.reshape(1,12)"
   ]
  },
  {
   "cell_type": "code",
   "execution_count": 39,
   "id": "d6d6b29f",
   "metadata": {},
   "outputs": [],
   "source": [
    "qmarks = np.load(r\"C:\\Users\\musta\\OneDrive\\Masaüstü\\marks (1).npy\") "
   ]
  },
  {
   "cell_type": "code",
   "execution_count": 40,
   "id": "8b277162",
   "metadata": {},
   "outputs": [
    {
     "data": {
      "text/plain": [
       "array([83, 33, 62, 76,  4, 35,  2, 32,  3, 93, 34, 88, 69, 33,  9, 64, 48,\n",
       "       69, 48, 89,  4, 79, 99, 35, 71, 79, 61, 83, 72, 62, 69, 56, 57, 65,\n",
       "       58, 84, 22, 76, 94, 90,  6])"
      ]
     },
     "execution_count": 40,
     "metadata": {},
     "output_type": "execute_result"
    }
   ],
   "source": [
    "qmarks"
   ]
  },
  {
   "cell_type": "code",
   "execution_count": 41,
   "id": "93a0457f",
   "metadata": {},
   "outputs": [
    {
     "data": {
      "text/plain": [
       "41"
      ]
     },
     "execution_count": 41,
     "metadata": {},
     "output_type": "execute_result"
    }
   ],
   "source": [
    "len(qmarks)"
   ]
  },
  {
   "cell_type": "code",
   "execution_count": 42,
   "id": "e84ffbaf",
   "metadata": {},
   "outputs": [
    {
     "data": {
      "text/plain": [
       "99"
      ]
     },
     "execution_count": 42,
     "metadata": {},
     "output_type": "execute_result"
    }
   ],
   "source": [
    "np.max(qmarks)"
   ]
  },
  {
   "cell_type": "code",
   "execution_count": 43,
   "id": "46024a5f",
   "metadata": {},
   "outputs": [
    {
     "data": {
      "text/plain": [
       "2"
      ]
     },
     "execution_count": 43,
     "metadata": {},
     "output_type": "execute_result"
    }
   ],
   "source": [
    "np.min(qmarks)"
   ]
  },
  {
   "cell_type": "code",
   "execution_count": 45,
   "id": "5d3784fa",
   "metadata": {},
   "outputs": [
    {
     "data": {
      "text/plain": [
       "62.0"
      ]
     },
     "execution_count": 45,
     "metadata": {},
     "output_type": "execute_result"
    }
   ],
   "source": [
    "np.median(qmarks)"
   ]
  },
  {
   "cell_type": "code",
   "execution_count": 46,
   "id": "a3d8929c",
   "metadata": {},
   "outputs": [
    {
     "data": {
      "text/plain": [
       "56.0"
      ]
     },
     "execution_count": 46,
     "metadata": {},
     "output_type": "execute_result"
    }
   ],
   "source": [
    "np.mean(qmarks)"
   ]
  },
  {
   "cell_type": "code",
   "execution_count": 47,
   "id": "d6c09f8c",
   "metadata": {},
   "outputs": [
    {
     "data": {
      "text/plain": [
       "28.538378096700658"
      ]
     },
     "execution_count": 47,
     "metadata": {},
     "output_type": "execute_result"
    }
   ],
   "source": [
    "np.std(qmarks)"
   ]
  },
  {
   "cell_type": "code",
   "execution_count": 48,
   "id": "4ed9e764",
   "metadata": {},
   "outputs": [
    {
     "data": {
      "text/plain": [
       "814.439024390244"
      ]
     },
     "execution_count": 48,
     "metadata": {},
     "output_type": "execute_result"
    }
   ],
   "source": [
    "np.var(qmarks)"
   ]
  },
  {
   "cell_type": "code",
   "execution_count": 49,
   "id": "55dc3ef2",
   "metadata": {},
   "outputs": [
    {
     "data": {
      "text/plain": [
       "97"
      ]
     },
     "execution_count": 49,
     "metadata": {},
     "output_type": "execute_result"
    }
   ],
   "source": [
    "np.ptp(qmarks)"
   ]
  },
  {
   "cell_type": "code",
   "execution_count": 53,
   "id": "95e315ef",
   "metadata": {},
   "outputs": [],
   "source": [
    "x = np.arange(0,15)\n",
    "y = (np.sin(x)*x**1/2)/(x**2+1)"
   ]
  },
  {
   "cell_type": "code",
   "execution_count": 56,
   "id": "9cc2f2fe",
   "metadata": {},
   "outputs": [],
   "source": [
    "import matplotlib.pyplot as plt"
   ]
  },
  {
   "cell_type": "code",
   "execution_count": 67,
   "id": "bbf433c5",
   "metadata": {},
   "outputs": [
    {
     "data": {
      "text/plain": [
       "<matplotlib.lines.Line2D at 0x144cb444fd0>"
      ]
     },
     "execution_count": 67,
     "metadata": {},
     "output_type": "execute_result"
    },
    {
     "data": {
      "image/png": "[encoded data removed]",
      "text/plain": [
       "<Figure size 640x480 with 1 Axes>"
      ]
     },
     "metadata": {},
     "output_type": "display_data"
    }
   ],
   "source": [
    "plt.plot(x,y, \"red\")\n",
    "plt.axvline(\"blue\")\n",
    "plt.axhline(\"b\")"
   ]
  },
  {
   "cell_type": "code",
   "execution_count": 70,
   "id": "b1048eb3",
   "metadata": {},
   "outputs": [],
   "source": [
    "array2: ndarray = array([\n",
    "    [7,-8,11],\n",
    "    [-4,5,1],\n",
    "    [3,8,-2]\n",
    "])"
   ]
  },
  {
   "cell_type": "code",
   "execution_count": 71,
   "id": "818ff995",
   "metadata": {},
   "outputs": [
    {
     "data": {
      "text/plain": [
       "array([[ 7, -8, 11],\n",
       "       [-4,  5,  1],\n",
       "       [ 3,  8, -2]])"
      ]
     },
     "execution_count": 71,
     "metadata": {},
     "output_type": "execute_result"
    }
   ],
   "source": [
    "array2"
   ]
  },
  {
   "cell_type": "code",
   "execution_count": 72,
   "id": "87dd2033",
   "metadata": {},
   "outputs": [
    {
     "data": {
      "text/plain": [
       "-602.9999999999997"
      ]
     },
     "execution_count": 72,
     "metadata": {},
     "output_type": "execute_result"
    }
   ],
   "source": [
    "np.linalg.det(array2)"
   ]
  },
  {
   "cell_type": "code",
   "execution_count": 73,
   "id": "ebdb357a",
   "metadata": {},
   "outputs": [
    {
     "data": {
      "text/plain": [
       "array([-7.81317157, 10.37284109,  7.44033048])"
      ]
     },
     "execution_count": 73,
     "metadata": {},
     "output_type": "execute_result"
    }
   ],
   "source": [
    "np.linalg.eigvals(array2)"
   ]
  },
  {
   "cell_type": "code",
   "execution_count": 74,
   "id": "5df3f85f",
   "metadata": {},
   "outputs": [
    {
     "data": {
      "text/plain": [
       "array([[ 0.02985075, -0.11940299,  0.10447761],\n",
       "       [ 0.00829187,  0.07794362,  0.08457711],\n",
       "       [ 0.07794362,  0.13266998, -0.00497512]])"
      ]
     },
     "execution_count": 74,
     "metadata": {},
     "output_type": "execute_result"
    }
   ],
   "source": [
    "np.linalg.inv(array2)"
   ]
  },
  {
   "cell_type": "code",
   "execution_count": 75,
   "id": "1cea5991",
   "metadata": {},
   "outputs": [
    {
     "data": {
      "text/plain": [
       "3.3546326482056936"
      ]
     },
     "execution_count": 75,
     "metadata": {},
     "output_type": "execute_result"
    }
   ],
   "source": [
    "np.linalg.cond(array2)"
   ]
  },
  {
   "cell_type": "code",
   "execution_count": 76,
   "id": "e38bb1ac",
   "metadata": {},
   "outputs": [
    {
     "data": {
      "text/plain": [
       "18.788294228055936"
      ]
     },
     "execution_count": 76,
     "metadata": {},
     "output_type": "execute_result"
    }
   ],
   "source": [
    "np.linalg.norm(array2)"
   ]
  },
  {
   "cell_type": "code",
   "execution_count": 77,
   "id": "7c91eae2",
   "metadata": {},
   "outputs": [],
   "source": [
    "matris_A: ndarray = array([\n",
    "    [1,2],\n",
    "    [4,5]\n",
    "])"
   ]
  },
  {
   "cell_type": "code",
   "execution_count": 78,
   "id": "06953596",
   "metadata": {},
   "outputs": [],
   "source": [
    "matris_B: ndarray = array([\n",
    "    [4,5]\n",
    "])"
   ]
  },
  {
   "cell_type": "code",
   "execution_count": 79,
   "id": "1a6d09ea",
   "metadata": {},
   "outputs": [
    {
     "data": {
      "text/plain": [
       "array([[1, 2],\n",
       "       [4, 5]])"
      ]
     },
     "execution_count": 79,
     "metadata": {},
     "output_type": "execute_result"
    }
   ],
   "source": [
    "matris_A"
   ]
  },
  {
   "cell_type": "code",
   "execution_count": 82,
   "id": "fd655851",
   "metadata": {},
   "outputs": [
    {
     "data": {
      "text/plain": [
       "array([[4, 5]])"
      ]
     },
     "execution_count": 82,
     "metadata": {},
     "output_type": "execute_result"
    }
   ],
   "source": [
    "matris_B"
   ]
  },
  {
   "cell_type": "markdown",
   "id": "91a0678f",
   "metadata": {},
   "source": []
  },
  {
   "cell_type": "code",
   "execution_count": 83,
   "id": "821b36b9",
   "metadata": {},
   "outputs": [
    {
     "data": {
      "text/plain": [
       "array([[ 4, 10],\n",
       "       [16, 25]])"
      ]
     },
     "execution_count": 83,
     "metadata": {},
     "output_type": "execute_result"
    }
   ],
   "source": [
    "matris_A * matris_B"
   ]
  },
  {
   "cell_type": "code",
   "execution_count": 85,
   "id": "d8330bac",
   "metadata": {},
   "outputs": [],
   "source": [
    "matris_A_2: ndarray = array([\n",
    "    [1,2,3],\n",
    "    [4,5,6],\n",
    "    [7,8,9]\n",
    "])\n",
    "\n",
    "matris_B_2: ndarray = array([\n",
    "    [2],\n",
    "    [0],\n",
    "    [-1]\n",
    "])"
   ]
  },
  {
   "cell_type": "code",
   "execution_count": 88,
   "id": "796c67d9",
   "metadata": {},
   "outputs": [
    {
     "data": {
      "text/plain": [
       "array([[ 3.15251974e+15],\n",
       "       [-6.30503948e+15],\n",
       "       [ 3.15251974e+15]])"
      ]
     },
     "execution_count": 88,
     "metadata": {},
     "output_type": "execute_result"
    }
   ],
   "source": [
    "np.linalg.solve(matris_A_2,matris_B_2)"
   ]
  },
  {
   "cell_type": "code",
   "execution_count": null,
   "id": "562fd3fe",
   "metadata": {},
   "outputs": [],
   "source": []
  }
 ],
 "metadata": {
  "kernelspec": {
   "display_name": "Python 3 (ipykernel)",
   "language": "python",
   "name": "python3"
  },
  "language_info": {
   "codemirror_mode": {
    "name": "ipython",
    "version": 3
   },
   "file_extension": ".py",
   "mimetype": "text/x-python",
   "name": "python",
   "nbconvert_exporter": "python",
   "pygments_lexer": "ipython3",
   "version": "3.11.5"
  }
 },
 "nbformat": 4,
 "nbformat_minor": 5
}
